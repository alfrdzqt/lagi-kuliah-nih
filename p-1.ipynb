{
 "cells": [
  {
   "cell_type": "code",
   "execution_count": 2,
   "metadata": {},
   "outputs": [
    {
     "name": "stdout",
     "output_type": "stream",
     "text": [
      "54\n",
      "64.5\n",
      "64\n",
      "0.8372093023255814\n",
      "False\n",
      "True\n",
      "Hd adalah bilangan float!\n"
     ]
    }
   ],
   "source": [
    "x = 12\n",
    "y = 42\n",
    "\n",
    "Ha = x + y\n",
    "print(Ha)\n",
    "# output: 54\n",
    "\n",
    "Hb = Ha + 10.5\n",
    "print(Hb)\n",
    "# output: 64.5\n",
    "\n",
    "Hc = int(Hb)\n",
    "print(Hc)\n",
    "# output: 64\n",
    "\n",
    "Hd = Ha / Hb\n",
    "print(Hd)\n",
    "# Output: 0.8372093023255814\n",
    "\n",
    "print(isinstance(Hd, int))\n",
    "print(isinstance(Hd, float))\n",
    "if isinstance(Hd, int):\n",
    "    print('Hd adalah integer!')\n",
    "else:\n",
    "    print('Hd adalah bilangan float!')\n",
    "# Output: Hd adalah bilangan float!\n"
   ]
  },
  {
   "cell_type": "code",
   "execution_count": 7,
   "metadata": {},
   "outputs": [
    {
     "data": {
      "text/plain": [
       "10"
      ]
     },
     "execution_count": 7,
     "metadata": {},
     "output_type": "execute_result"
    }
   ],
   "source": [
    "(999).bit_length()\n",
    "# Output 10"
   ]
  },
  {
   "cell_type": "code",
   "execution_count": 4,
   "metadata": {},
   "outputs": [
    {
     "data": {
      "text/plain": [
       "10"
      ]
     },
     "execution_count": 4,
     "metadata": {},
     "output_type": "execute_result"
    }
   ],
   "source": [
    "(998).bit_length()\n",
    "# Output 10"
   ]
  },
  {
   "cell_type": "code",
   "execution_count": 5,
   "metadata": {},
   "outputs": [
    {
     "data": {
      "text/plain": [
       "7"
      ]
     },
     "execution_count": 5,
     "metadata": {},
     "output_type": "execute_result"
    }
   ],
   "source": [
    "(99).bit_length()\n",
    "# Output 7"
   ]
  },
  {
   "cell_type": "code",
   "execution_count": 6,
   "metadata": {},
   "outputs": [
    {
     "data": {
      "text/plain": [
       "4"
      ]
     },
     "execution_count": 6,
     "metadata": {},
     "output_type": "execute_result"
    }
   ],
   "source": [
    "(11).bit_length()\n",
    "# Output 4"
   ]
  },
  {
   "cell_type": "code",
   "execution_count": 1,
   "metadata": {},
   "outputs": [
    {
     "name": "stdout",
     "output_type": "stream",
     "text": [
      "0b1000101011\n",
      "0x22b\n",
      "0o1053\n"
     ]
    }
   ],
   "source": [
    "i = 555\n",
    "\n",
    "print(bin(i))\n",
    "# Output 0b1011111011\n",
    "print(hex(i))\n",
    "# Output 0x22b\n",
    "print(oct(i))\n",
    "# Output 0O1053"
   ]
  }
 ],
 "metadata": {
  "kernelspec": {
   "display_name": "Python 3",
   "language": "python",
   "name": "python3"
  },
  "language_info": {
   "codemirror_mode": {
    "name": "ipython",
    "version": 3
   },
   "file_extension": ".py",
   "mimetype": "text/x-python",
   "name": "python",
   "nbconvert_exporter": "python",
   "pygments_lexer": "ipython3",
   "version": "3.11.5"
  }
 },
 "nbformat": 4,
 "nbformat_minor": 2
}
