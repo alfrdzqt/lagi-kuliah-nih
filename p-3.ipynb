{
 "cells": [
  {
   "cell_type": "code",
   "execution_count": 3,
   "metadata": {},
   "outputs": [
    {
     "name": "stdout",
     "output_type": "stream",
     "text": [
      "Hallo, Nim saya: 2311102441242\n",
      "Hallo, Nim saya: 2311102441242\n",
      "Hallo, Nim saya: 2311102441242\n",
      "Hallo, Nim saya: 2311102441242\n",
      "Hallo, Nim saya: 2311102441242\n",
      "Hallo, Nim saya: 2311102441242\n",
      "Hallo, Nim saya: 2311102441242\n",
      "Hallo, Nim saya: 2311102441242\n",
      "Hallo, Nim saya: 2311102441242\n",
      "Hallo, Nim saya: 2311102441242\n",
      "Hallo, Nim saya: 2311102441242\n",
      "Hallo, Nim saya: 2311102441242\n",
      "Hallo, Nim saya: 2311102441242\n",
      "Hallo, Nim saya: 2311102441242\n",
      "Hallo, Nim saya: 2311102441242\n"
     ]
    }
   ],
   "source": [
    "counter = 1\n",
    "while counter <= 5:\n",
    "    print(\"Hallo, Nim saya: 2311102441242\")\n",
    "    counter = counter + 1\n",
    "\n",
    "counter = 1\n",
    "while counter <= 10:\n",
    "    print(\"Hallo, Nim saya: 2311102441242\")\n",
    "    counter = counter + 1\n",
    "\n",
    "# Output\n",
    "# Hallo, Nim saya: 2311102441242\n",
    "# Hallo, Nim saya: 2311102441242\n",
    "# Hallo, Nim saya: 2311102441242\n",
    "# Hallo, Nim saya: 2311102441242\n",
    "# Hallo, Nim saya: 2311102441242\n",
    "\n",
    "# Output\n",
    "# Hallo, Nim saya: 2311102441242\n",
    "# Hallo, Nim saya: 2311102441242\n",
    "# Hallo, Nim saya: 2311102441242\n",
    "# Hallo, Nim saya: 2311102441242\n",
    "# Hallo, Nim saya: 2311102441242\n",
    "# Hallo, Nim saya: 2311102441242\n",
    "# Hallo, Nim saya: 2311102441242\n",
    "# Hallo, Nim saya: 2311102441242\n",
    "# Hallo, Nim saya: 2311102441242\n",
    "# Hallo, Nim saya: 2311102441242\n"
   ]
  },
  {
   "cell_type": "code",
   "execution_count": 3,
   "metadata": {},
   "outputs": [
    {
     "name": "stdout",
     "output_type": "stream",
     "text": [
      "0 Kurang dari 10\n",
      "1 Kurang dari 10\n",
      "2 Kurang dari 10\n",
      "3 Kurang dari 10\n",
      "4 Kurang dari 10\n",
      "5 Kurang dari 10\n",
      "6 Kurang dari 10\n",
      "7 Kurang dari 10\n",
      "8 Kurang dari 10\n",
      "9 Kurang dari 10\n",
      "10 sama dengan 10\n"
     ]
    }
   ],
   "source": [
    "counter = 0\n",
    "while counter < 10:\n",
    "    print(counter, \"Kurang dari 10\")\n",
    "    counter = counter + 1\n",
    "else: \n",
    "    print(counter, 'sama dengan 10')"
   ]
  },
  {
   "cell_type": "code",
   "execution_count": 4,
   "metadata": {},
   "outputs": [
    {
     "name": "stdout",
     "output_type": "stream",
     "text": [
      "['s', 'a', 'y', 'a', 'a', 'n', 'd', 'a', 'd', 'i', 'a']\n"
     ]
    }
   ],
   "source": [
    "daftarkata = ['saya', 'anda', 'dia']\n",
    "daftarhuruf = [ ]\n",
    "for setiapkata in daftarkata:\n",
    "    for setiaphuruf in setiapkata:\n",
    "        daftarhuruf.append(setiaphuruf)\n",
    "print(daftarhuruf)\n",
    "\n",
    "# Output:\n",
    "# ['s', 'a', 'y', 'a', 'a', 'n', 'd', 'a', 'd', 'i', 'a']"
   ]
  },
  {
   "cell_type": "code",
   "execution_count": 4,
   "metadata": {},
   "outputs": [
    {
     "name": "stdout",
     "output_type": "stream",
     "text": [
      "maaf, nilai yang di input adalah negatif\n"
     ]
    }
   ],
   "source": [
    "import math\n",
    "n = -2\n",
    "\n",
    "if n < 0:\n",
    "    print(\"maaf, nilai yang di input adalah negatif\")\n",
    "else:\n",
    "    print(math.sqrt\n",
    "    (n))\n",
    "\n",
    "# Output n = 2\n",
    "# 1.4142135623730951\n",
    "\n",
    "# output n = -2\n",
    "# maaf, nilai yang di input adalah negatif\n"
   ]
  },
  {
   "cell_type": "code",
   "execution_count": 10,
   "metadata": {},
   "outputs": [
    {
     "name": "stdout",
     "output_type": "stream",
     "text": [
      "[1, 4, 9, 16, 25, 36, 49, 64, 81, 100]\n",
      "[1, 4, 9, 16, 25, 36, 49, 64, 81, 100]\n"
     ]
    }
   ],
   "source": [
    "SQlist = []\n",
    "for x in range(1,11):\n",
    "    SQlist.append(x*x)\n",
    "print(SQlist)\n",
    "\n",
    "STlist = [x*x for x in range(1,11)]\n",
    "print(STlist)\n",
    "\n",
    "# Output:\n",
    "# [1, 4, 9, 16, 25, 36, 49, 64, 81, 100]\n",
    "# [1, 4, 9, 16, 25, 36, 49, 64, 81, 100]"
   ]
  },
  {
   "cell_type": "code",
   "execution_count": 7,
   "metadata": {},
   "outputs": [
    {
     "name": "stdout",
     "output_type": "stream",
     "text": [
      "A\n"
     ]
    }
   ],
   "source": [
    "score = int(input(\"Masukkan skor: \"))\n",
    "\n",
    "if score >=90:\n",
    "    print(\"A\")\n",
    "else:\n",
    "    if score >=80:\n",
    "        print(\"B\")\n",
    "    else:\n",
    "        if score >=70:\n",
    "            print(\"C\")\n",
    "        else:\n",
    "            if score >=60:\n",
    "                print(\"D\")\n",
    "            else:\n",
    "                print(\"E\")"
   ]
  },
  {
   "cell_type": "code",
   "execution_count": 31,
   "metadata": {},
   "outputs": [
    {
     "name": "stdout",
     "output_type": "stream",
     "text": [
      "['S', 'Y', 'E', 'R', 'A', ' ', 'A', 'L', '-', 'F', 'A', 'R', 'I', 'D', 'Z', 'I']\n"
     ]
    }
   ],
   "source": [
    "namatanpakosonan = [ch.upper() for ch in 'syera al-faridzi' if ch not in 'AEIOU']\n",
    "print(namatanpakosonan)\n",
    "\n",
    "# Output:\n",
    "# ['S', 'Y', 'E', 'R', 'A', ' ', 'A', 'L', '-', 'F', 'A', 'R', 'I', 'D', 'Z', 'I']"
   ]
  },
  {
   "cell_type": "code",
   "execution_count": 7,
   "metadata": {},
   "outputs": [
    {
     "name": "stdout",
     "output_type": "stream",
     "text": [
      "Nilai harus integer\n",
      "Program selesai\n"
     ]
    }
   ],
   "source": [
    "import math\n",
    "\n",
    "try:\n",
    "    anumber = int(input(\"Masukan nilai integer \"))\n",
    "    print(math.sqrt(anumber))\n",
    "except ValueError:\n",
    "    print(\"Nilai harus integer\")\n",
    "finally:\n",
    "    print('Program selesai')\n",
    "\n",
    "# Output:\n",
    "# Nilai harus integer\n",
    "# Program selesai"
   ]
  },
  {
   "cell_type": "code",
   "execution_count": 5,
   "metadata": {},
   "outputs": [
    {
     "data": {
      "text/plain": [
       "4"
      ]
     },
     "execution_count": 5,
     "metadata": {},
     "output_type": "execute_result"
    }
   ],
   "source": [
    "def kuadrat(x):\n",
    "    return x * x\n",
    "kuadrat(2)\n",
    "\n",
    "# Output:\n",
    "# 4"
   ]
  },
  {
   "cell_type": "code",
   "execution_count": 10,
   "metadata": {},
   "outputs": [
    {
     "data": {
      "text/plain": [
       "153.86"
      ]
     },
     "execution_count": 10,
     "metadata": {},
     "output_type": "execute_result"
    }
   ],
   "source": [
    "def luasLingkaran(r):\n",
    "    return 3.14 * r * r\n",
    "\n",
    "luasLingkaran(7)\n",
    "\n",
    "# Output:\n",
    "# 153.86"
   ]
  },
  {
   "cell_type": "code",
   "execution_count": 9,
   "metadata": {},
   "outputs": [
    {
     "data": {
      "text/plain": [
       "25.0"
      ]
     },
     "execution_count": 9,
     "metadata": {},
     "output_type": "execute_result"
    }
   ],
   "source": [
    "def luasSegitiga(a, t):\n",
    "    return 0.5 * a * t\n",
    "\n",
    "luasSegitiga(10, 5)\n",
    "\n",
    "# Output:\n",
    "# 25.0"
   ]
  },
  {
   "cell_type": "code",
   "execution_count": 2,
   "metadata": {},
   "outputs": [
    {
     "name": "stdout",
     "output_type": "stream",
     "text": [
      "3/4\n",
      "7/6\n",
      "False\n"
     ]
    }
   ],
   "source": [
    "class Fraksi:\n",
    "\n",
    "    def __init__(self, num, den):\n",
    "        self.num = num\n",
    "        self.den = den\n",
    "\n",
    "    def show(self):\n",
    "        print(self.num, \"/\", self.den)\n",
    "\n",
    "    def __str__(self):\n",
    "        return str(self.num) + \"/\" + str(self.den)\n",
    "\n",
    "    def __add__(self, otherfraction):\n",
    "        newnum = self.num * otherfraction.den + self.den * otherfraction.num\n",
    "        newden = self.den * otherfraction.den\n",
    "        common = self.gcd(newnum, newden)\n",
    "        return Fraksi(newnum // common, newden // common)\n",
    "\n",
    "    def __eq__(self, other):\n",
    "        firstnum = self.num * other.den\n",
    "        secondnum = other.num * self.den\n",
    "        return firstnum == secondnum\n",
    "\n",
    "    def gcd(self, m, n):\n",
    "        while m % n != 0:\n",
    "            oldm = m\n",
    "            oldn = n\n",
    "\n",
    "            m = oldn\n",
    "            n = oldm % oldn\n",
    "        return n \n",
    "\n",
    "# Contoh penggunaan\n",
    "f1 = Fraksi(1, 4)\n",
    "f2 = Fraksi(1, 2)\n",
    "\n",
    "print(f1 + f2)\n",
    "\n",
    "x = Fraksi(1, 2)\n",
    "y = Fraksi(2, 3)\n",
    "print(x + y)\n",
    "print(x == y)\n",
    "\n",
    "# Output:\n",
    "# 3/4\n",
    "# 7/6\n",
    "# False"
   ]
  },
  {
   "cell_type": "code",
   "execution_count": 6,
   "metadata": {},
   "outputs": [
    {
     "name": "stdout",
     "output_type": "stream",
     "text": [
      "<__main__.Fraksi object at 0x000001F7879A9C90>\n"
     ]
    }
   ],
   "source": [
    "class Fraksi:\n",
    "\n",
    "    def __init__(self, top, bottom):\n",
    "\n",
    "        self.num = top\n",
    "        self.den = bottom\n",
    "\n",
    "myFraksi = Fraksi(3,5)\n",
    "print(myFraksi)\n",
    "\n",
    "# Output:\n",
    "# <__main__.Fraksi object at 0x000001F7879A9C90>"
   ]
  }
 ],
 "metadata": {
  "kernelspec": {
   "display_name": "Python 3",
   "language": "python",
   "name": "python3"
  },
  "language_info": {
   "codemirror_mode": {
    "name": "ipython",
    "version": 3
   },
   "file_extension": ".py",
   "mimetype": "text/x-python",
   "name": "python",
   "nbconvert_exporter": "python",
   "pygments_lexer": "ipython3",
   "version": "3.11.5"
  }
 },
 "nbformat": 4,
 "nbformat_minor": 2
}
