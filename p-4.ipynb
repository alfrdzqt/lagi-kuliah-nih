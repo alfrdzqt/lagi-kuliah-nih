{
 "cells": [
  {
   "cell_type": "code",
   "execution_count": 9,
   "metadata": {},
   "outputs": [
    {
     "name": "stdout",
     "output_type": "stream",
     "text": [
      "55\n"
     ]
    }
   ],
   "source": [
    "def foo(joko):\n",
    "    agus = 0\n",
    "    for dini in range(1,joko+1):\n",
    "        ayu = dini\n",
    "        agus = agus + ayu\n",
    "    return agus\n",
    "\n",
    "print(foo(10))"
   ]
  },
  {
   "cell_type": "code",
   "execution_count": 1,
   "metadata": {},
   "outputs": [
    {
     "name": "stdout",
     "output_type": "stream",
     "text": [
      "55\n"
     ]
    }
   ],
   "source": [
    "def sumOfN(n):\n",
    "    theSum = 0 \n",
    "    for i in range(1,n+1):\n",
    "        theSum = theSum + i \n",
    "\n",
    "    return theSum\n",
    "\n",
    "print(sumOfN(10))"
   ]
  },
  {
   "cell_type": "code",
   "execution_count": 7,
   "metadata": {},
   "outputs": [
    {
     "name": "stdout",
     "output_type": "stream",
     "text": [
      "hasil disoal 4.2a adalah 10000000 membutuhkanwaktu  0.3545001 detik\n",
      "hasil disoal 4.2a adalah 1000000 membutuhkanwaktu  0.0330260 detik\n",
      "hasil disoal 4.2a adalah 100000 membutuhkanwaktu  0.0030060 detik\n",
      "hasil disoal 4.2a adalah 10000000 membutuhkanwaktu  0.3306878 detik\n",
      "hasil disoal 4.2a adalah 1000000 membutuhkanwaktu  0.0327311 detik\n",
      "hasil disoal 4.2a adalah 100000 membutuhkanwaktu  0.0035160 detik\n",
      "hasil disoal 4.2a adalah 10000000 membutuhkanwaktu  0.3418016 detik\n",
      "hasil disoal 4.2a adalah 1000000 membutuhkanwaktu  0.0341024 detik\n",
      "hasil disoal 4.2a adalah 100000 membutuhkanwaktu  0.0039990 detik\n",
      "hasil disoal 4.2a adalah 10000000 membutuhkanwaktu  0.3481271 detik\n",
      "hasil disoal 4.2a adalah 1000000 membutuhkanwaktu  0.0341380 detik\n",
      "hasil disoal 4.2a adalah 100000 membutuhkanwaktu  0.0030026 detik\n",
      "hasil disoal 4.2a adalah 10000000 membutuhkanwaktu  0.3460772 detik\n",
      "hasil disoal 4.2a adalah 1000000 membutuhkanwaktu  0.0332532 detik\n",
      "hasil disoal 4.2a adalah 100000 membutuhkanwaktu  0.0029917 detik\n"
     ]
    }
   ],
   "source": [
    "import time \n",
    "\n",
    "def sumOFN2(n):\n",
    "    start = time.time()\n",
    "\n",
    "    theSum = 0\n",
    "    for i in range(1,n+1):\n",
    "        theSum = theSum + 1\n",
    "\n",
    "    end = time.time()\n",
    "\n",
    "    return theSum,end-start\n",
    "\n",
    "for i in range(5):\n",
    "    print(\"hasil disoal 4.2a adalah %d membutuhkanwaktu %10.7f detik\" %sumOFN2(10000000))\n",
    "    print(\"hasil disoal 4.2a adalah %d membutuhkanwaktu %10.7f detik\" %sumOFN2(1000000))\n",
    "    print(\"hasil disoal 4.2a adalah %d membutuhkanwaktu %10.7f detik\" %sumOFN2(100000))\n",
    "\n",
    "\n",
    "# hasil disoal 4.2a adalah 10000000 membutuhkanwaktu  0.3701401 detik\n",
    "# hasil disoal 4.2a adalah 10000000 membutuhkanwaktu  0.3278909 detik\n",
    "# hasil disoal 4.2a adalah 10000000 membutuhkanwaktu  0.3391759 detik\n",
    "# hasil disoal 4.2a adalah 10000000 membutuhkanwaktu  0.3469331 detik\n",
    "# hasil disoal 4.2a adalah 10000000 membutuhkanwaktu  0.3460848 detik"
   ]
  },
  {
   "cell_type": "code",
   "execution_count": null,
   "metadata": {},
   "outputs": [
    {
     "name": "stdout",
     "output_type": "stream",
     "text": [
      "Hasil 10000 iterasi adalah 50005000\n",
      "Hasil 10000 iterasi adalah 500000500000\n",
      "Hasil 10000 iterasi adalah 5000000050000000\n"
     ]
    }
   ],
   "source": [
    "def sumOFN3(n):\n",
    "    return (n*(n+1))/2\n",
    "\n",
    "print(\"Hasil 10000 iterasi adalah %d\"%sumOFN3(10000))\n",
    "print(\"Hasil 1000000 iterasi adalah %d\"%sumOFN3(1000000))\n",
    "print(\"Hasil 100000000 iterasi adalah %d\"%sumOFN3(100000000))\n",
    "\n",
    "# Hasil 10000 iterasi adalah 50005000\n",
    "# Hasil 10000 iterasi adalah 500000500000\n",
    "# Hasil 10000 iterasi adalah 5000000050000000"
   ]
  },
  {
   "cell_type": "markdown",
   "metadata": {},
   "source": [
    "i"
   ]
  },
  {
   "cell_type": "code",
   "execution_count": 10,
   "metadata": {},
   "outputs": [
    {
     "name": "stdout",
     "output_type": "stream",
     "text": [
      "Hasil sumOfY(1000) adalah 249500250000 membutuhkan waktu 0.063 detik\n",
      "Hasil sumOfY(2000) adalah 3996001000000 membutuhkan waktu 0.257 detik\n",
      "Hasil sumOfY(3000) adalah 20236502250000 membutuhkan waktu 0.590 detik\n",
      "Hasil sumOfY(4000) adalah 63968004000000 membutuhkan waktu 1.047 detik\n",
      "Hasil sumOfY(5000) adalah 156187506250000 membutuhkan waktu 1.645 detik\n",
      "Hasil sumOfY(6000) adalah 323892009000000 membutuhkan waktu 2.383 detik\n",
      "Hasil sumOfY(7000) adalah 600078512250000 membutuhkan waktu 3.236 detik\n",
      "Hasil sumOfY(8000) adalah 1023744016000000 membutuhkan waktu 4.265 detik\n",
      "Hasil sumOfY(9000) adalah 1639885520250000 membutuhkan waktu 5.380 detik\n",
      "Hasil sumOfY(10000) adalah 2499500025000000 membutuhkan waktu 6.748 detik\n"
     ]
    }
   ],
   "source": [
    "import time\n",
    "\n",
    "def sumOfY(n):\n",
    "    start = time.time()\n",
    "    theSum = 0 \n",
    "    for i in range(n):\n",
    "        for j in range(n):\n",
    "            theSum = theSum + i * j\n",
    "    end = time.time()\n",
    "    return theSum, end-start\n",
    "\n",
    "\n",
    "print(\"Hasil sumOfY(1000) adalah %d membutuhkan waktu %0.3f detik\" %sumOfY(1000))\n",
    "print(\"Hasil sumOfY(2000) adalah %d membutuhkan waktu %0.3f detik\" %sumOfY(2000))\n",
    "print(\"Hasil sumOfY(3000) adalah %d membutuhkan waktu %0.3f detik\" %sumOfY(3000))\n",
    "print(\"Hasil sumOfY(4000) adalah %d membutuhkan waktu %0.3f detik\" %sumOfY(4000))\n",
    "print(\"Hasil sumOfY(5000) adalah %d membutuhkan waktu %0.3f detik\" %sumOfY(5000))\n",
    "print(\"Hasil sumOfY(6000) adalah %d membutuhkan waktu %0.3f detik\" %sumOfY(6000))\n",
    "print(\"Hasil sumOfY(7000) adalah %d membutuhkan waktu %0.3f detik\" %sumOfY(7000))\n",
    "print(\"Hasil sumOfY(8000) adalah %d membutuhkan waktu %0.3f detik\" %sumOfY(8000))\n",
    "print(\"Hasil sumOfY(9000) adalah %d membutuhkan waktu %0.3f detik\" %sumOfY(9000))\n",
    "print(\"Hasil sumOfY(10000) adalah %d membutuhkan waktu %0.3f detik\" %sumOfY(10000))"
   ]
  },
  {
   "cell_type": "code",
   "execution_count": 4,
   "metadata": {},
   "outputs": [
    {
     "name": "stdout",
     "output_type": "stream",
     "text": [
      "Hsil sumOfY(1000) adalah 333833500 membutuhkan waktu 0.000 detik\n",
      "Hsil sumOfY(2000) adal\n"
     ]
    }
   ],
   "source": [
    "import time\n",
    "\n",
    "def sumOfY(n):\n",
    "    start = time.time()\n",
    "    theSum = n * (n+1) * (2*n+1) // 6\n",
    "    end = time.time()\n",
    "    return theSum, end-start\n",
    "\n",
    "print(\"Hsil sumOfY(1000) adalah %d membutuhkan waktu %0.3f detik\" %sumOfY(1000))\n",
    "print(\"Hsil sumOfY(2000) adal\")"
   ]
  },
  {
   "cell_type": "code",
   "execution_count": null,
   "metadata": {},
   "outputs": [
    {
     "name": "stdout",
     "output_type": "stream",
     "text": [
      "True\n",
      "True\n",
      "False\n"
     ]
    }
   ],
   "source": [
    "def anagramSolution1(s1,s2): #mendefinisikan fungsi bernama anagramSolution1 yang menerima dua parameter string, s1 dan s2\n",
    "    alist = list(s2) # mengubah string s2 menjadi list karakter dan menyimpannya divariabel alist\n",
    "\n",
    "    pos1 = 0 # menampung index karakter dari string s1 yang sedang di proses\n",
    "    stillOK = True # variabel boolean yang menandakan apakah s1 masih bisa menjadi anagram dari s2 yang awalnya true\n",
    "\n",
    "    while pos1 < len(s1) and stillOK: # berjalan selama pos1 belum mencapai akhir s1 dan stillOK masih true\n",
    "        pos2 = 0\n",
    "        found = False\n",
    "        while pos2 < len(alist) and not found: #berjalan selama pos2 belum mencapai akhir alist dan found masih false\n",
    "            if s1[pos1] == alist[pos2]:\n",
    "                found = True\n",
    "            else:\n",
    "                pos2 = pos2 + 1\n",
    "\n",
    "        if found: # jika found true(karakter ditemukan), set elemen alist[pos2] menjadi none (menandakan karakter tersebut sudah digunakan)\n",
    "            alist[pos2] = None\n",
    "        else: # jika found false (karakter ditemukan), set stillOK menjadi false (menandakan s1 tidak bisa menjadi anagram dari s2)\n",
    "            stillOK = False\n",
    "        \n",
    "        pos1 = pos1 + 1\n",
    "\n",
    "    return stillOK # mengembalikan nilai stillOK\n",
    "\n",
    "print(anagramSolution1('abcd', 'dcba')) #True (anagram)\n",
    "print(anagramSolution1('abcd', 'abdc')) #True (anagram) \n",
    "print(anagramSolution1('abcd', 'defg')) # False (bukan anagram)"
   ]
  },
  {
   "cell_type": "code",
   "execution_count": null,
   "metadata": {},
   "outputs": [
    {
     "name": "stdout",
     "output_type": "stream",
     "text": [
      "True\n",
      "False\n",
      "False\n"
     ]
    }
   ],
   "source": [
    "def anagramSolution2(s1,s2): # mendefinisikan fungsi bernama anagram solution2 yang menerima dua parameter string, s1 dan s2\n",
    "    alist1 = list(s1) # mengubah s1 dan s2 menjadi list karakter dan menyimpannya di variabel alist1 dan alist2 masing-masing\n",
    "    alist2 = list(s2) # ini dilakukan karena perbandingan dan pengurutan karakter lebih mudah dilakukan dengan list dibandingkan string\n",
    "\n",
    "    alist1.sort() # mengurutkan karakter-karakter di alist1 dan alist2 secara alfabetis menggunakan method sort\n",
    "    alist2.sort() # ini dilakukan karena anagram emiliki susunan karakter yang sama , meskipun urutannya berbeda\n",
    "\n",
    "    pos = 0 # menampung index karakter yang sedang dibandingkan(awalnya 0)\n",
    "    matches = True # variabel boolean yang menandakan apakah karakter-karakter dikedua list masih cocok \n",
    "\n",
    "    while pos < len(s1) and matches: # perulangan while yang berjalan selama pos belum mencapai akhir s1 dan matches masih true\n",
    "        if alist1[pos]==alist2[pos]: # jika karakter sama, incremen pos untuk melanjutkan ke karakter berikutnya\n",
    "            pos = pos + 1\n",
    "        else: # jika karakter tidak sama, set matches menjadi false (menandakan keduanya bukan anagram)\n",
    "            matches = False\n",
    "    \n",
    "    return matches # mengembalikan nilai matches, fungsi akan mengembalikan true jika semua karakter cocok dan false jika tidak \n",
    "\n",
    "print(anagramSolution2('abcde','edcba')) #true (anagram)\n",
    "print(anagramSolution2('abcde','edcb')) #false (bukan anagram)\n",
    "print(anagramSolution2('abcde','edfba')) #false (bukan anagram)"
   ]
  },
  {
   "cell_type": "code",
   "execution_count": null,
   "metadata": {},
   "outputs": [
    {
     "name": "stdout",
     "output_type": "stream",
     "text": [
      "True\n",
      "True\n",
      "False\n"
     ]
    }
   ],
   "source": [
    "def anagramSolution4(s1,s2): #mendefinisikan fungsi bernama anagram solution 4 yang menerima dua parameter string, s1 dan s2 \n",
    "    c1 = [0]*26 # meminisiasikan dua list c1 dan c2 dengan panjang 26, masing-masing bernilai 0\n",
    "    c2 = [0]*26 # list ini akan digunakan untuk menyimpan frekuesi kemuculan setiap huruf alfabet (dari a sampaiz) di kedua string\n",
    "\n",
    "    for i in range(len(s1)): # i variabel iterasi perulangan\n",
    "        pos = ord(s1[i])-ord('a') # post variabel untuk menyimpan index posisi karakter di c1 sesuai huruf alfabetnya\n",
    "        c1[pos] = c1[pos] + 1\n",
    "\n",
    "    for i in range(len(s2)): # perulangan for yang mirip dengan baris 4-6, namun iterasi sebanyak panjang s2 dan mengisi list c2 dengan frekuensi kemunculan huruf di s2\n",
    "        pos = ord(s2[i])-ord('a')\n",
    "        c2[pos] = c2[pos] + 1\n",
    "\n",
    "    j = 0 # memisiasikan j sebagai index iterasi perulangan dan StillOK sebagai flag yang menandakan apakah s1 dan s2 asih berpotensi menjadi anagram (awalnya True)\n",
    "    stillOK = True\n",
    "    while j<26 and stillOK:\n",
    "        if c1[j]==c2[j]:\n",
    "            j = j + 1\n",
    "        else:\n",
    "            stillOK = False\n",
    "        \n",
    "    return stillOK # true jika semua frekuensi kemunculan huruf di kedua string sama (anagram), false jika perbedaan frekuensi kemunculan huruf (bukan anagram)\n",
    "\n",
    "print(anagramSolution4('apple', 'pleap')) # true\n",
    "print(anagramSolution4('orange', 'ngerao')) # true\n",
    "print(anagramSolution4('apple', 'durian')) #false"
   ]
  },
  {
   "cell_type": "code",
   "execution_count": null,
   "metadata": {},
   "outputs": [
    {
     "ename": "SyntaxError",
     "evalue": "invalid syntax (842801469.py, line 1)",
     "output_type": "error",
     "traceback": [
      "\u001b[1;36m  Cell \u001b[1;32mIn[3], line 1\u001b[1;36m\u001b[0m\n\u001b[1;33m    python.exe -m pip install --upgrade pip\u001b[0m\n\u001b[1;37m                  ^\u001b[0m\n\u001b[1;31mSyntaxError\u001b[0m\u001b[1;31m:\u001b[0m invalid syntax\n"
     ]
    }
   ],
   "source": []
  }
 ],
 "metadata": {
  "interpreter": {
   "hash": "4d775589221919a5b3d1609434f6ebbec6d4a337579bcdbae44d43fa3666d968"
  },
  "kernelspec": {
   "display_name": "Python 3.11.5 64-bit",
   "language": "python",
   "name": "python3"
  },
  "language_info": {
   "codemirror_mode": {
    "name": "ipython",
    "version": 3
   },
   "file_extension": ".py",
   "mimetype": "text/x-python",
   "name": "python",
   "nbconvert_exporter": "python",
   "pygments_lexer": "ipython3",
   "version": "3.11.5"
  },
  "orig_nbformat": 4
 },
 "nbformat": 4,
 "nbformat_minor": 2
}
