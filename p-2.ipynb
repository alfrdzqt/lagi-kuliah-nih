{
 "cells": [
  {
   "cell_type": "code",
   "execution_count": 4,
   "metadata": {},
   "outputs": [
    {
     "name": "stdout",
     "output_type": "stream",
     "text": [
      "180\n",
      "216\n",
      "61917364224\n",
      "4.0\n",
      "14.0\n",
      "0\n",
      "8\n",
      "0.2857142857142857\n",
      "0\n",
      "8\n",
      "2113143741011360736530044045523113991698878330713580061264477934391564919875497777688215057732151811172029315247932158994879668553186145824710950394684126712037376\n"
     ]
    }
   ],
   "source": [
    "a = 12\n",
    "b = 42\n",
    "\n",
    "\n",
    "\n",
    "print(a+b*4) # Output: 180 Integer\n",
    "print((a+b)*4) # Output: 216 Integer\n",
    "print(a**10) # Output: 61917364224 Float\n",
    "print(a/3) # Output: 4.0 Float\n",
    "print(b/3) # Output: 14.0 Float\n",
    "print(a//b) # Output: 0 Integer\n",
    "print(a&b) # Output: 8 Integer\n",
    "print(a/b) # Output: 0.2857142857142857 Float\n",
    "print(a//b) # Output: 0 Integer\n",
    "print(a&b) # Output: 8 Integer\n",
    "print(b**100) # Output: 2113143741011360736530044045523113991698878330713580061264477934391564919875497777688215057732151811172029315247932158994879668553186145824710950394684126712037376 Integer"
   ]
  },
  {
   "cell_type": "code",
   "execution_count": 1,
   "metadata": {},
   "outputs": [
    {
     "name": "stdout",
     "output_type": "stream",
     "text": [
      "False\n",
      "True\n",
      "True\n",
      "True\n",
      "42\n",
      "12\n",
      "False\n",
      "False\n"
     ]
    },
    {
     "data": {
      "text/plain": [
       "'\\nFalse\\nTrue\\nTrue\\nTrue\\n42\\n12\\nFalse\\nFalse\\n'"
      ]
     },
     "execution_count": 1,
     "metadata": {},
     "output_type": "execute_result"
    }
   ],
   "source": [
    "a = 12\n",
    "b = 42\n",
    "\n",
    "print(a == b)\n",
    "print(b > a)\n",
    "print(b >= 1) and (b <= 10)\n",
    "print(a != b)\n",
    "print(a and b)\n",
    "print(a or b)\n",
    "print(not a)\n",
    "print(not b)\n",
    "\n",
    "# Output:\n",
    "# False\n",
    "# True\n",
    "# True\n",
    "# True\n",
    "# 42\n",
    "# 12\n",
    "# False\n",
    "# False"
   ]
  },
  {
   "cell_type": "code",
   "execution_count": 6,
   "metadata": {},
   "outputs": [
    {
     "name": "stdout",
     "output_type": "stream",
     "text": [
      "2311102441242\n",
      "1\n",
      "2\n",
      "3\n",
      "2\n",
      "12\n",
      "nilai float b =  32.0\n"
     ]
    }
   ],
   "source": [
    "myNim = str(2311102441242)\n",
    "\n",
    "myNim_10th = myNim[9]\n",
    "myNim_11th = myNim[-3]\n",
    "i = 11\n",
    "myNim_12th = myNim[1]\n",
    "myNim_13th = myNim[i+1]\n",
    "a = int(myNim_10th + myNim_11th)\n",
    "b = float(myNim_12th + myNim_13th)\n",
    "print(myNim)\n",
    "print(myNim_10th)\n",
    "print(myNim_11th)\n",
    "print(myNim_12th)\n",
    "print(myNim_13th)\n",
    "print(a)\n",
    "print('nilai float b = ',b)\n",
    "\n",
    "# Output:\n",
    "# 2311102441242\n",
    "# 1\n",
    "# 2\n",
    "# 3\n",
    "# 2\n",
    "# 12\n",
    "# nilai float b =  32.0"
   ]
  },
  {
   "cell_type": "code",
   "execution_count": 17,
   "metadata": {},
   "outputs": [
    {
     "name": "stdout",
     "output_type": "stream",
     "text": [
      "[1, 3, True, 6.5]\n",
      "[[1, 3, True, 6.5], [1, 3, True, 6.5], [1, 3, True, 6.5]]\n",
      "[[1, 3, 45, 6.5], [1, 3, 45, 6.5], [1, 3, 45, 6.5]]\n",
      "[1024, 3, True, 6.5, False]\n",
      "[1024, 3, 4.5, True, 6.5, False]\n",
      "False\n",
      "[1024, 3, 4.5, True, 6.5]\n",
      "3\n",
      "[1024, 4.5, True, 6.5]\n",
      "[1024, 4.5, 6.5]\n",
      "[4.5, 6.5, 1024]\n",
      "[1024, 6.5, 4.5]\n",
      "1\n",
      "1\n",
      "[1024, 4.5]\n",
      "[4.5]\n",
      "[1, 3, 45, 6.5, 4.5]\n",
      "4\n",
      "[1, 3]\n"
     ]
    }
   ],
   "source": [
    "myList = [1,3,True,6.5]\n",
    "print(myList)\n",
    "A = [myList]*3\n",
    "print(A)\n",
    "myList[2] = 45\n",
    "print(A)\n",
    "\n",
    "myList_A = [1024, 3, True, 6.5]\n",
    "myList_A.append(False)\n",
    "print(myList_A)\n",
    "myList_A.insert(2,4.5)\n",
    "print(myList_A)\n",
    "print(myList_A.pop())\n",
    "print(myList_A)\n",
    "print(myList_A.pop(1))\n",
    "print(myList_A)\n",
    "myList_A.pop(2)\n",
    "print(myList_A)\n",
    "myList_A.sort()\n",
    "print(myList_A)\n",
    "myList_A.reverse()\n",
    "print(myList_A)\n",
    "print(myList_A.count(6.5))\n",
    "print(myList_A.index(6.5))\n",
    "myList_A.remove(6.5)\n",
    "print(myList_A)\n",
    "del myList_A[0]\n",
    "print(myList_A)\n",
    "\n",
    "newList = myList + myList_A\n",
    "print(newList)\n",
    "print(len(myList))\n",
    "print(myList[:2])\n",
    "\n",
    "# [1, 3, True, 6.5]\n",
    "# [[1, 3, True, 6.5], [1, 3, True, 6.5], [1, 3, True, 6.5]]\n",
    "# [[1, 3, 45, 6.5], [1, 3, 45, 6.5], [1, 3, 45, 6.5]]\n",
    "# [1024, 3, True, 6.5, False]\n",
    "# [1024, 3, 4.5, True, 6.5, False]\n",
    "# False\n",
    "# [1024, 3, 4.5, True, 6.5]\n",
    "# 3\n",
    "# [1024, 4.5, True, 6.5]\n",
    "# [1024, 4.5, 6.5]\n",
    "# [4.5, 6.5, 1024]\n",
    "# [1024, 6.5, 4.5]\n",
    "# 1\n",
    "# 1\n",
    "# [1024, 4.5]\n",
    "# [4.5]\n",
    "# [1, 3, 45, 6.5, 4.5]\n",
    "# 4\n",
    "# [1, 3]\n"
   ]
  },
  {
   "cell_type": "code",
   "execution_count": 18,
   "metadata": {},
   "outputs": [
    {
     "name": "stdout",
     "output_type": "stream",
     "text": [
      "(2, True, 4.96)\n",
      "3\n",
      "2\n",
      "(2, True, 4.96, 2, True, 4.96, 2, True, 4.96)\n",
      "(2, True)\n"
     ]
    },
    {
     "ename": "TypeError",
     "evalue": "'tuple' object does not support item assignment",
     "output_type": "error",
     "traceback": [
      "\u001b[1;31m---------------------------------------------------------------------------\u001b[0m",
      "\u001b[1;31mTypeError\u001b[0m                                 Traceback (most recent call last)",
      "Cell \u001b[1;32mIn[18], line 7\u001b[0m\n\u001b[0;32m      5\u001b[0m \u001b[38;5;28mprint\u001b[39m(myTuple \u001b[38;5;241m*\u001b[39m \u001b[38;5;241m3\u001b[39m)\n\u001b[0;32m      6\u001b[0m \u001b[38;5;28mprint\u001b[39m(myTuple[\u001b[38;5;241m0\u001b[39m:\u001b[38;5;241m2\u001b[39m])\n\u001b[1;32m----> 7\u001b[0m \u001b[43mmyTuple\u001b[49m\u001b[43m[\u001b[49m\u001b[38;5;241;43m1\u001b[39;49m\u001b[43m]\u001b[49m \u001b[38;5;241m=\u001b[39m \u001b[38;5;28;01mFalse\u001b[39;00m\n",
      "\u001b[1;31mTypeError\u001b[0m: 'tuple' object does not support item assignment"
     ]
    }
   ],
   "source": [
    "myTuple = (2,True,4.96)\n",
    "print(myTuple)\n",
    "print(len(myTuple))\n",
    "print(myTuple[0])\n",
    "print(myTuple * 3)\n",
    "print(myTuple[0:2])\n",
    "myTuple[1] = False\n",
    "\n",
    "#Output:\n",
    "# (2, True, 4.96)\n",
    "# 3\n",
    "# 2\n",
    "# (2, True, 4.96, 2, True, 4.96, 2, True, 4.96)\n",
    "# (2, True)"
   ]
  },
  {
   "cell_type": "code",
   "execution_count": 21,
   "metadata": {},
   "outputs": [
    {
     "name": "stdout",
     "output_type": "stream",
     "text": [
      "{False, 'kucing', 3, 4.5, 6}\n",
      "5\n",
      "True\n",
      "False\n",
      "{False, 'kucing', 3, 4.5, 6, 99, 100, 'kuda'}\n",
      "{False, 'kucing', 3, 4.5, 6, 99, 100, 'kuda'}\n",
      "{3}\n",
      "{3}\n",
      "{False, 'kucing', 4.5, 6}\n",
      "{False, 'kucing', 4.5, 6}\n",
      "True\n",
      "True\n",
      "{False, 'kucing', 3, 4.5, 6, 'rumah'}\n",
      "{False, 'kucing', 3, 6, 'rumah'}\n",
      "{'kucing', 3, 6, 'rumah'}\n",
      "set()\n"
     ]
    }
   ],
   "source": [
    "mySet = {3,6, 'kucing',4.5,False}\n",
    "print(mySet)\n",
    "print(len(mySet))\n",
    "print(False in mySet)\n",
    "print('cat' in mySet)\n",
    "\n",
    "yourSet = {99,3,100,'kuda'}\n",
    "print(mySet.union(yourSet))\n",
    "print(mySet | yourSet)\n",
    "print(mySet.intersection(yourSet))\n",
    "print(mySet & yourSet)\n",
    "print(mySet.difference(yourSet))\n",
    "print(mySet - yourSet)\n",
    "print({3,100}.issubset(yourSet))\n",
    "print({3,100} <= yourSet)\n",
    "\n",
    "mySet.add('rumah')\n",
    "print(mySet)\n",
    "mySet.remove(4.5)\n",
    "print(mySet)\n",
    "mySet.pop()\n",
    "print(mySet)\n",
    "\n",
    "mySet.clear()\n",
    "print(mySet)\n",
    "\n",
    "\n",
    "#Output: \n",
    "# {False, 'kucing', 3, 4.5, 6}\n",
    "# 5\n",
    "# True\n",
    "# False\n",
    "# {False, 'kucing', 3, 4.5, 6, 99, 100, 'kuda'}\n",
    "# {False, 'kucing', 3, 4.5, 6, 99, 100, 'kuda'}\n",
    "# {3}\n",
    "# {3}\n",
    "# {False, 'kucing', 4.5, 6}\n",
    "# {False, 'kucing', 4.5, 6}\n",
    "# True\n",
    "# True\n",
    "# {False, 'kucing', 3, 4.5, 6, 'rumah'}\n",
    "# {False, 'kucing', 3, 6, 'rumah'}\n",
    "# {'kucing', 3, 6, 'rumah'}\n",
    "# set()"
   ]
  },
  {
   "cell_type": "code",
   "execution_count": 16,
   "metadata": {},
   "outputs": [
    {
     "name": "stdout",
     "output_type": "stream",
     "text": [
      "Samarinda\n",
      "{'KalTim': 'Samarinda', 'Bali': 'Denpasar', 'JaTim': 'Surabaya'}\n",
      "4\n",
      "Samarinda adalah ibukota dari  KalTim\n",
      "Denpasar adalah ibukota dari  Bali\n",
      "Surabaya adalah ibukota dari  JaTim\n",
      "Banjarmasin adalah ibukota dari  KalSel\n",
      "{'name': 'Pisang', 'price': 5.8, 'stock': 10}\n"
     ]
    }
   ],
   "source": [
    "capitals = {'KalTim' : 'Samarinda', 'Bali' : 'Denpasar'}\n",
    "print(capitals['KalTim'])\n",
    "capitals['JaTim'] = 'Surabaya'\n",
    "print(capitals)\n",
    "capitals['KalSel'] = 'Banjarmasin'\n",
    "print(len(capitals))\n",
    "for k in capitals:\n",
    "    print(capitals[k],\"adalah ibukota dari \",k)\n",
    "\n",
    "product = {\n",
    "    'name': 'Pisang',\n",
    "    'price': 5.800,\n",
    "    'stock': 10\n",
    "}\n",
    "print(product)\n",
    "\n",
    "#Output: \n",
    "# Samarinda\n",
    "# {'KalTim': 'Samarinda', 'Bali': 'Denpasar', 'JaTim': 'Surabaya'}\n",
    "# 4\n",
    "# Samarinda adalah ibukota dari  KalTim\n",
    "# Denpasar adalah ibukota dari  Bali\n",
    "# Surabaya adalah ibukota dari  JaTim\n",
    "# Banjarmasin adalah ibukota dari  KalSel\n",
    "# {'name': 'Pisang', 'price': 5.8, 'stock': 10}"
   ]
  },
  {
   "cell_type": "code",
   "execution_count": 25,
   "metadata": {},
   "outputs": [
    {
     "name": "stdout",
     "output_type": "stream",
     "text": [
      "Huruf kapital untuk nama anda  SYERA AL-FARIDZ dan mempunyai karakter sebanyak  15\n"
     ]
    }
   ],
   "source": [
    "aName = input(\"Nama lengkap saya adalah \")\n",
    "print(\"Huruf kapital untuk nama anda \",aName.upper(),\"dan mempunyai karakter sebanyak \",len(aName))\n",
    "\n",
    "#Output: \n",
    "# Huruf kapital untuk nama anda  SYERA AL-FARIDZ dan mempunyai karakter sebanyak  15"
   ]
  },
  {
   "cell_type": "code",
   "execution_count": 1,
   "metadata": {},
   "outputs": [
    {
     "name": "stdout",
     "output_type": "stream",
     "text": [
      "Luas persegi yaitu  8.0\n"
     ]
    }
   ],
   "source": [
    "sisiKubus = input(\"Input nilai sisi persegi\")\n",
    "sisi = float(sisiKubus)\n",
    "luas = 2 * sisi\n",
    "print('Luas persegi yaitu ',luas)\n",
    "\n",
    "#Output: \n",
    "# Luas persegi yaitu  8.0"
   ]
  },
  {
   "cell_type": "code",
   "execution_count": 21,
   "metadata": {},
   "outputs": [
    {
     "name": "stdout",
     "output_type": "stream",
     "text": [
      "SYERA AL-FARIDZI 2311102441242\n",
      "SYERA AL-FARIDZI-2311102441242."
     ]
    },
    {
     "ename": "TypeError",
     "evalue": "%i format: a real number is required, not str",
     "output_type": "error",
     "traceback": [
      "\u001b[1;31m---------------------------------------------------------------------------\u001b[0m",
      "\u001b[1;31mTypeError\u001b[0m                                 Traceback (most recent call last)",
      "Cell \u001b[1;32mIn[21], line 6\u001b[0m\n\u001b[0;32m      4\u001b[0m \u001b[38;5;28mprint\u001b[39m(aName,myNim)\n\u001b[0;32m      5\u001b[0m \u001b[38;5;28mprint\u001b[39m(aName,myNim, sep\u001b[38;5;241m=\u001b[39m\u001b[38;5;124m'\u001b[39m\u001b[38;5;124m-\u001b[39m\u001b[38;5;124m'\u001b[39m,end\u001b[38;5;241m=\u001b[39m\u001b[38;5;124m'\u001b[39m\u001b[38;5;124m.\u001b[39m\u001b[38;5;124m'\u001b[39m)\n\u001b[1;32m----> 6\u001b[0m \u001b[38;5;28mprint\u001b[39m(\u001b[38;5;124;43m\"\u001b[39;49m\u001b[38;5;132;43;01m%s\u001b[39;49;00m\u001b[38;5;124;43m mempunyai NIM \u001b[39;49m\u001b[38;5;132;43;01m%i\u001b[39;49;00m\u001b[38;5;124;43m\"\u001b[39;49m\u001b[43m \u001b[49m\u001b[38;5;241;43m%\u001b[39;49m\u001b[43m \u001b[49m\u001b[43m(\u001b[49m\u001b[43maName\u001b[49m\u001b[43m,\u001b[49m\u001b[43mmyNim\u001b[49m\u001b[43m)\u001b[49m)\n",
      "\u001b[1;31mTypeError\u001b[0m: %i format: a real number is required, not str"
     ]
    }
   ],
   "source": [
    "aName = input('Nama: ')\n",
    "myNim = input('NIM: ')\n",
    "\n",
    "print(aName,myNim)\n",
    "print(aName,myNim, sep='-',end='.')\n",
    "print(\"%s mempunyai NIM %i\" % (aName,myNim))\n",
    "\n",
    "#Output:\n",
    "# SYERA AL-FARIDZI 2311102441242\n",
    "# SYERA AL-FARIDZI-2311102441242."
   ]
  },
  {
   "cell_type": "code",
   "execution_count": 27,
   "metadata": {},
   "outputs": [
    {
     "name": "stdout",
     "output_type": "stream",
     "text": [
      "Harga sebuah pisang adalah 5800 rupiah\n",
      "Harga sebuah     pisang adalah 5800.00 rupiah\n",
      "Harga sebuah     pisang adalah    5800.00 rupiah\n",
      "Harga sebuah pisang adalah  6800.0 rupiah\n"
     ]
    }
   ],
   "source": [
    "price = 5800\n",
    "item = 'pisang'\n",
    "print(\"Harga sebuah %s adalah %d rupiah\"%(item,price))\n",
    "print(\"Harga sebuah %+10s adalah %5.2f rupiah\"%(item,price))\n",
    "print(\"Harga sebuah %+10s adalah %10.2f rupiah\"%(item,price))\n",
    "itemdict = {\"item\" : \"pisang\", \"harga\" : 6800}\n",
    "print(\"Harga sebuah %(item)s adalah %(harga)7.1f rupiah\"%itemdict)\n",
    "\n",
    "#Output:\n",
    "# Harga sebuah pisang adalah 5800 rupiah\n",
    "# Harga sebuah     pisang adalah 5800.00 rupiah\n",
    "# Harga sebuah     pisang adalah    5800.00 rupiah\n"
   ]
  }
 ],
 "metadata": {
  "kernelspec": {
   "display_name": "Python 3",
   "language": "python",
   "name": "python3"
  },
  "language_info": {
   "codemirror_mode": {
    "name": "ipython",
    "version": 3
   },
   "file_extension": ".py",
   "mimetype": "text/x-python",
   "name": "python",
   "nbconvert_exporter": "python",
   "pygments_lexer": "ipython3",
   "version": "3.11.5"
  }
 },
 "nbformat": 4,
 "nbformat_minor": 2
}
